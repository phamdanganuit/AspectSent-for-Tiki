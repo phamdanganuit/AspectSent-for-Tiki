{
 "cells": [
  {
   "cell_type": "code",
   "execution_count": 24,
   "id": "d64ba8df",
   "metadata": {},
   "outputs": [],
   "source": [
    "import pandas as pd\n",
    "import numpy as np\n"
   ]
  },
  {
   "cell_type": "code",
   "execution_count": 25,
   "id": "0c364433",
   "metadata": {},
   "outputs": [],
   "source": [
    "df= pd.read_csv('../Cleaned_Data/cleaned_data.csv')"
   ]
  },
  {
   "cell_type": "code",
   "execution_count": 26,
   "id": "8a93de6a",
   "metadata": {},
   "outputs": [
    {
     "data": {
      "text/html": [
       "<div>\n",
       "<style scoped>\n",
       "    .dataframe tbody tr th:only-of-type {\n",
       "        vertical-align: middle;\n",
       "    }\n",
       "\n",
       "    .dataframe tbody tr th {\n",
       "        vertical-align: top;\n",
       "    }\n",
       "\n",
       "    .dataframe thead th {\n",
       "        text-align: right;\n",
       "    }\n",
       "</style>\n",
       "<table border=\"1\" class=\"dataframe\">\n",
       "  <thead>\n",
       "    <tr style=\"text-align: right;\">\n",
       "      <th></th>\n",
       "      <th>title</th>\n",
       "      <th>content</th>\n",
       "      <th>type</th>\n",
       "    </tr>\n",
       "  </thead>\n",
       "  <tbody>\n",
       "    <tr>\n",
       "      <th>0</th>\n",
       "      <td>5</td>\n",
       "      <td>Sách rất hay. Dựa trên nghiên cứu, và có hướng...</td>\n",
       "      <td>0</td>\n",
       "    </tr>\n",
       "    <tr>\n",
       "      <th>1</th>\n",
       "      <td>5</td>\n",
       "      <td>Nội dung sách quá hay Rất đơn giản và dễ áp dụ...</td>\n",
       "      <td>0</td>\n",
       "    </tr>\n",
       "    <tr>\n",
       "      <th>2</th>\n",
       "      <td>5</td>\n",
       "      <td>Quyển này hay mà tác giả viết rất dễ đọc nha n...</td>\n",
       "      <td>0</td>\n",
       "    </tr>\n",
       "    <tr>\n",
       "      <th>3</th>\n",
       "      <td>5</td>\n",
       "      <td>Dạo này thói quen xấu lại bủa vây nên tôi quyế...</td>\n",
       "      <td>0</td>\n",
       "    </tr>\n",
       "    <tr>\n",
       "      <th>4</th>\n",
       "      <td>5</td>\n",
       "      <td>Tiki giao thần tốc, mình đặt 1h sáng giao chiề...</td>\n",
       "      <td>0</td>\n",
       "    </tr>\n",
       "    <tr>\n",
       "      <th>...</th>\n",
       "      <td>...</td>\n",
       "      <td>...</td>\n",
       "      <td>...</td>\n",
       "    </tr>\n",
       "    <tr>\n",
       "      <th>7968</th>\n",
       "      <td>4</td>\n",
       "      <td>Ship về bị chảy ra ngoài</td>\n",
       "      <td>25</td>\n",
       "    </tr>\n",
       "    <tr>\n",
       "      <th>7969</th>\n",
       "      <td>4</td>\n",
       "      <td>chưa dùng sp nên chưa đánh giá dc</td>\n",
       "      <td>25</td>\n",
       "    </tr>\n",
       "    <tr>\n",
       "      <th>7970</th>\n",
       "      <td>4</td>\n",
       "      <td>bọt ít k sạch dầu mỡ</td>\n",
       "      <td>25</td>\n",
       "    </tr>\n",
       "    <tr>\n",
       "      <th>7971</th>\n",
       "      <td>4</td>\n",
       "      <td>Giá hơi cao</td>\n",
       "      <td>25</td>\n",
       "    </tr>\n",
       "    <tr>\n",
       "      <th>7972</th>\n",
       "      <td>4</td>\n",
       "      <td>Rửa sạch</td>\n",
       "      <td>25</td>\n",
       "    </tr>\n",
       "  </tbody>\n",
       "</table>\n",
       "<p>7973 rows × 3 columns</p>\n",
       "</div>"
      ],
      "text/plain": [
       "      title                                            content  type\n",
       "0         5  Sách rất hay. Dựa trên nghiên cứu, và có hướng...     0\n",
       "1         5  Nội dung sách quá hay Rất đơn giản và dễ áp dụ...     0\n",
       "2         5  Quyển này hay mà tác giả viết rất dễ đọc nha n...     0\n",
       "3         5  Dạo này thói quen xấu lại bủa vây nên tôi quyế...     0\n",
       "4         5  Tiki giao thần tốc, mình đặt 1h sáng giao chiề...     0\n",
       "...     ...                                                ...   ...\n",
       "7968      4                           Ship về bị chảy ra ngoài    25\n",
       "7969      4                  chưa dùng sp nên chưa đánh giá dc    25\n",
       "7970      4                               bọt ít k sạch dầu mỡ    25\n",
       "7971      4                                        Giá hơi cao    25\n",
       "7972      4                                           Rửa sạch    25\n",
       "\n",
       "[7973 rows x 3 columns]"
      ]
     },
     "execution_count": 26,
     "metadata": {},
     "output_type": "execute_result"
    }
   ],
   "source": [
    "df"
   ]
  },
  {
   "cell_type": "markdown",
   "id": "d980d937",
   "metadata": {},
   "source": [
    "# Hệ thống Dựa trên Luật (Rule-Based Systems) cho việc phân loại khía cạnh\n",
    "\n",
    "Trong phần này, chúng ta sẽ triển khai một hệ thống dựa trên luật đơn giản để phân loại các đánh giá theo các khía cạnh khác nhau:\n",
    "- Vận chuyển\n",
    "- Chất lượng\n",
    "- Giá cả\n",
    "- Chăm sóc khách hàng (CSKH)\n",
    "\n",
    "Mỗi luật sẽ kiểm tra sự xuất hiện của các từ khóa cụ thể trong nội dung đánh giá."
   ]
  },
  {
   "cell_type": "code",
   "execution_count": 27,
   "id": "59ae0722",
   "metadata": {},
   "outputs": [],
   "source": [
    "van_chuyen_keywords = [\n",
    "    'giao hàng', 'ship', 'shipper', 'vận chuyển', 'giao', 'nhận hàng', 'đóng gói',\n",
    "    'thời gian giao', 'giao nhanh', 'giao chậm', 'phí ship', 'thần tốc','Gói hàng'\n",
    "]\n",
    "\n",
    "chat_luong_keywords = [\n",
    "    'chất lượng', 'bền', 'hỏng', 'tốt', 'xấu', 'đểu', 'kém', 'chắc chắn',\n",
    "    'dễ vỡ', 'hư', 'dùng tốt', 'sản phẩm tốt', 'hoạt động', 'dùng', 'chất lượng kém','Nội dung','hay','đẹp','xịn','độc','lạ',\n",
    "    'đẹp trai', 'đẹp gái', 'mới', 'cũ', 'hàng chính hãng', 'hàng giả', 'hàng nhái','Tuyệt vời'\n",
    "]\n",
    "\n",
    "gia_ca_keywords = [\n",
    "    'giá', 'đắt', 'rẻ', 'khuyến mãi', 'hợp lý', 'giá cả', 'giá trị', 'tiền',\n",
    "    'đáng tiền', 'không đáng tiền', 'sale', 'giảm giá', 'rẻ hơn', 'đắt hơn'\n",
    "]\n",
    "\n",
    "cskh_keywords = [\n",
    "    'nhân viên', 'tư vấn', 'hỗ trợ', 'chăm sóc', 'thái độ', 'phục vụ',\n",
    "    'nhiệt tình', 'phản hồi', 'chăm sóc khách hàng', 'khách hàng', 'dịch vụ'\n",
    "]"
   ]
  },
  {
   "cell_type": "code",
   "execution_count": 28,
   "id": "6dcffdc4",
   "metadata": {},
   "outputs": [],
   "source": [
    "def contains_keyword(text, keywords):\n",
    "    if isinstance(text, str):\n",
    "        text = text.lower()\n",
    "        for keyword in keywords:\n",
    "            if keyword in text:\n",
    "                return True\n",
    "    return False\n",
    "\n",
    "def classify_aspect(text):\n",
    "    aspects = []\n",
    "    \n",
    "    if contains_keyword(text, van_chuyen_keywords):\n",
    "        aspects.append('ship')\n",
    "        \n",
    "    if contains_keyword(text, chat_luong_keywords):\n",
    "        aspects.append('quality')\n",
    "        \n",
    "    if contains_keyword(text, gia_ca_keywords):\n",
    "        aspects.append('price')\n",
    "        \n",
    "    if contains_keyword(text, cskh_keywords):\n",
    "        aspects.append('cskh')\n",
    "        \n",
    "    if not aspects:\n",
    "        return 'other'\n",
    "    \n",
    "    return ', '.join(aspects)"
   ]
  },
  {
   "cell_type": "code",
   "execution_count": 29,
   "id": "a1a8ae8c",
   "metadata": {},
   "outputs": [
    {
     "name": "stdout",
     "output_type": "stream",
     "text": [
      "Phân phối các khía cạnh:\n",
      "aspect\n",
      "quality                       2856\n",
      "ship, quality                 1616\n",
      "other                         1504\n",
      "ship                           724\n",
      "quality, price                 491\n",
      "ship, quality, price           293\n",
      "price                          153\n",
      "ship, quality, cskh             96\n",
      "quality, cskh                   64\n",
      "ship, price                     60\n",
      "ship, quality, price, cskh      37\n",
      "ship, cskh                      28\n",
      "quality, price, cskh            24\n",
      "cskh                            17\n",
      "price, cskh                      5\n",
      "ship, price, cskh                5\n",
      "Name: count, dtype: int64\n"
     ]
    }
   ],
   "source": [
    "df['aspect'] = df['content'].apply(classify_aspect)\n",
    "\n",
    "print(\"Phân phối các khía cạnh:\")\n",
    "aspect_counts = df['aspect'].value_counts()\n",
    "print(aspect_counts)"
   ]
  },
  {
   "cell_type": "code",
   "execution_count": 30,
   "id": "0691d9e0",
   "metadata": {},
   "outputs": [
    {
     "name": "stdout",
     "output_type": "stream",
     "text": [
      "\n",
      "\n",
      "--- Ví dụ cho khía cạnh: quality ---\n",
      "Đánh giá 1: Cuốn sách rất hay\n",
      "Đánh giá 2: Sách siêu hay luôn nha mn!!\n",
      "Đánh giá 3: sách đẹp nhưng thiếu trang\n",
      "\n",
      "\n",
      "--- Ví dụ cho khía cạnh: ship, quality ---\n",
      "Đánh giá 1: Nội dung sách hay. Chưa lần nào mua tiki mà thất vọng cả. Sách mới mới cả hình thức và vừa mới xuất bản 7.2022. Giao nhanh siêu cấp thiên hà chưa đầy 12 tiếng. Shipper thân thiện\n",
      "Đánh giá 2: giao hàng nhanh. sách đẹp rất hài lòng\n",
      "Đánh giá 3: Tiki gói hàng ko bao giờ làm mình thất vọng, rất là kĩ càng gọn đẹp, giao cực kì nhanh nữa sáng đặt chiều có ùi\n",
      "\n",
      "\n",
      "--- Ví dụ cho khía cạnh: other ---\n",
      "Đánh giá 1: sách có nội dung về kĩ năng mềm vô cùng cần thiết cho gen Z\n",
      "Đánh giá 2: Không bọc chống sốc, sướt bìa\n",
      "Đánh giá 3: Ok đó\n",
      "\n",
      "\n",
      "--- Ví dụ cho khía cạnh: ship ---\n",
      "Đánh giá 1: Đặt lúc 8h hơn mà gần 11h shiper đã giao rv\n",
      "Đánh giá 2: Đóng gói cẩn thận giao nhanh\n",
      "Đánh giá 3: Ngắn gọn,súc tích. Giao hàng nhanh\n",
      "\n",
      "\n",
      "--- Ví dụ cho khía cạnh: quality, price ---\n",
      "Đánh giá 1: Tâm lý học về tiền tác giả chia sẻ 19 câu chuyện thú vị về những cách kỳ lạ mà mọi người nghĩ và hành xử về tiền bạc. Nó giúp bạn định hình lại và một lần nữa phải suy nghĩ và đánh giá lại bản thân, cách bạn tìm kiếm, đối sử với tiền bạc có thực sự đúng đắn ? Thu gọn\n",
      "Đánh giá 2: cũng ổn. trong tầm giá chưa dám đòi hỏi quá xuất sắc.\n",
      "Đánh giá 3: vừa nhận, đọc khoảng 50 trang thì sai chính tả(ảnh cuối) nội dung cũng ổn, đọc xong hết mới đánh giá khác quan, 7/10\n"
     ]
    }
   ],
   "source": [
    "# Xem một số ví dụ cho mỗi khía cạnh\n",
    "for aspect in aspect_counts.index[:5]:\n",
    "    print(f\"\\n\\n--- Ví dụ cho khía cạnh: {aspect} ---\")\n",
    "    sample = df[df['aspect'] == aspect].sample(min(3, len(df[df['aspect'] == aspect])))\n",
    "    for i, (_, row) in enumerate(sample.iterrows()):\n",
    "        print(f\"Đánh giá {i+1}: {row['content']}\")"
   ]
  },
  {
   "cell_type": "code",
   "execution_count": 31,
   "id": "9873f869",
   "metadata": {},
   "outputs": [
    {
     "name": "stdout",
     "output_type": "stream",
     "text": [
      "Đã lưu dữ liệu đã gán nhãn vào ../Labeled_Data/Simple_Label.csv\n"
     ]
    }
   ],
   "source": [
    "output_path = '../Labeled_Data/Simple_Label.csv'\n",
    "df.to_csv(output_path, index=False)\n",
    "print(f\"Đã lưu dữ liệu đã gán nhãn vào {output_path}\")"
   ]
  },
  {
   "cell_type": "code",
   "execution_count": 32,
   "id": "76a3bc15",
   "metadata": {},
   "outputs": [
    {
     "name": "stdout",
     "output_type": "stream",
     "text": [
      "Số lượng đánh giá với nhãn 'other': 1504\n",
      "\n",
      "Một số ví dụ đánh giá với nhãn 'other':\n",
      "3736                      Sản phẩm rất oke nha mọi người.\n",
      "1341                         Sách healing ! Đọc siêu cuốn\n",
      "1757    rất cảm động và ý nghĩa, cuộc đời là do mỗi ng...\n",
      "2950    một chiến lược đầu tư tập trung cao độ, nhà đầ...\n",
      "4813                                             đáng mua\n",
      "Name: content, dtype: object\n",
      "\n",
      "Đã lưu các đánh giá có nhãn 'other' vào ../Labeled_Data/Other_Label.csv\n"
     ]
    }
   ],
   "source": [
    "other_df = df[df['aspect'] == 'other']\n",
    "\n",
    "print(f\"Số lượng đánh giá với nhãn 'other': {len(other_df)}\")\n",
    "\n",
    "print(\"\\nMột số ví dụ đánh giá với nhãn 'other':\")\n",
    "print(other_df.sample(5)['content'])\n",
    "\n",
    "other_output_path = '../Labeled_Data/Other_Label.csv'\n",
    "other_df.to_csv(other_output_path, index=False)\n",
    "print(f\"\\nĐã lưu các đánh giá có nhãn 'other' vào {other_output_path}\")"
   ]
  }
 ],
 "metadata": {
  "kernelspec": {
   "display_name": "Python 3",
   "language": "python",
   "name": "python3"
  },
  "language_info": {
   "codemirror_mode": {
    "name": "ipython",
    "version": 3
   },
   "file_extension": ".py",
   "mimetype": "text/x-python",
   "name": "python",
   "nbconvert_exporter": "python",
   "pygments_lexer": "ipython3",
   "version": "3.12.6"
  }
 },
 "nbformat": 4,
 "nbformat_minor": 5
}
